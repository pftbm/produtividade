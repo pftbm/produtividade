{
 "cells": [
  {
   "cell_type": "code",
   "execution_count": null,
   "id": "4eaba22f",
   "metadata": {},
   "outputs": [],
   "source": [
    "import pandas as pd\n",
    "import numpy as np\n",
    "pd.options.display.float_format = '{:.2f}'.format\n",
    "from datetime import datetime, timedelta\n",
    "import locale\n",
    "import holidays\n",
    "import time\n",
    "\n",
    "locale.setlocale(locale.LC_ALL, '')  # Configura a localização padrão do sistema"
   ]
  },
  {
   "cell_type": "code",
   "execution_count": null,
   "id": "d98b0b99",
   "metadata": {},
   "outputs": [],
   "source": [
    "def calcular_dias_nao_contidos(intervalo_principal, intervalos_menores):\n",
    "    #data_inicio_principal = datetime.strptime(intervalo_principal[0], \"%Y-%m-%d\")\n",
    "    #data_fim_principal = datetime.strptime(intervalo_principal[1], \"%Y-%m-%d\")\n",
    "    \n",
    "    data_inicio_principal = intervalo_principal[0]\n",
    "    data_fim_principal = intervalo_principal[1]\n",
    "\n",
    "    dias_nao_contidos = 0\n",
    "\n",
    "    # Percorre cada dia dentro do intervalo principal\n",
    "    data_atual = data_inicio_principal\n",
    "    while data_atual <= data_fim_principal:\n",
    "        contido_em_intervalo = False\n",
    "\n",
    "        # Verifica se a data atual está contida em algum intervalo menor\n",
    "        for intervalo in intervalos_menores:\n",
    "            #data_inicio_intervalo = datetime.strptime(intervalo[0], \"%Y-%m-%d\")\n",
    "            #data_fim_intervalo = datetime.strptime(intervalo[1], \"%Y-%m-%d\")\n",
    "            data_inicio_intervalo = intervalo[0]\n",
    "            data_fim_intervalo = intervalo[1]\n",
    "\n",
    "            if data_inicio_intervalo <= data_atual <= data_fim_intervalo:\n",
    "                contido_em_intervalo = True\n",
    "                break\n",
    "\n",
    "        if not contido_em_intervalo:\n",
    "            dias_nao_contidos += 1\n",
    "\n",
    "        data_atual += timedelta(days=1)\n",
    "\n",
    "    return dias_nao_contidos\n",
    "\n",
    "\n",
    "def gerar_vetor_dias_efetivos_do_tecnico(vetor_tuplas):\n",
    "    \n",
    "    result = []\n",
    "\n",
    "    for i in range(len(vetor_tuplas)):    \n",
    "        intervalo_principal = vetor_tuplas[i]    \n",
    "\n",
    "        if (i + 1) < len(vetor_tuplas):\n",
    "            intervalos_menores = vetor_tuplas[i+1:]\n",
    "            dias_nao_contidos = calcular_dias_nao_contidos(intervalo_principal, intervalos_menores)        \n",
    "        else:\n",
    "            dias_nao_contidos = (vetor_tuplas[i][1] - vetor_tuplas[i][0]).days\n",
    "\n",
    "        result.append(dias_nao_contidos)\n",
    "    \n",
    "    return result\n"
   ]
  },
  {
   "cell_type": "code",
   "execution_count": null,
   "id": "1cc8e3aa-e7a7-40cd-8866-874bd31a316a",
   "metadata": {},
   "outputs": [],
   "source": [
    "#Versão melhorada da contagem de datas - usando conjuntos (sets)\n",
    "\n",
    "def anos_intervalos(intervalos):\n",
    "    anos = set() \n",
    "\n",
    "    for inicio, fim in intervalos:\n",
    "        data_inicio = pd.to_datetime(inicio)\n",
    "        data_fim = pd.to_datetime(fim)\n",
    "        anos.update([data_inicio.year, data_fim.year])\n",
    "\n",
    "    anos_list = sorted(list(anos))\n",
    "    \n",
    "    return anos_list\n",
    "    \n",
    "\n",
    "def estimar_dias_efetivos_do_tecnico(vetor_tuplas):\n",
    "\n",
    "    intervalos = vetor_tuplas\n",
    "    \n",
    "    # Set com os dias já contidos em intervalos anteriores\n",
    "    dias_cobertos = set()\n",
    "    \n",
    "    # lista de resultados\n",
    "    num_dias_novos_list = []\n",
    "\n",
    "    feriados_brasil = holidays.Brazil(years = anos_intervalos(intervalos))\n",
    "\n",
    "    #Lista é invertida, para começar pelo fim, com as datas mais antigas - reversed()\n",
    "    for i, (inicio, fim) in enumerate(reversed(intervalos), start=1):\n",
    "\n",
    "        dias_intervalo = set(pd.date_range(inicio, fim, freq='B')) # freq='B' -> dias úteis\n",
    "        dias_intervalo_sem_feriado = set([d for d in dias_intervalo if d not in feriados_brasil])\n",
    "        dias_intervalo = dias_intervalo_sem_feriado\n",
    "      \n",
    "        dias_novos = dias_intervalo - dias_cobertos #operação sobre conjuntos: obtém os dias ainda não cobertos\n",
    "        dias_cobertos.update(dias_intervalo)\n",
    "        \n",
    "        num_dias_novos_list.insert(0, len(dias_novos))\n",
    "\n",
    "    \n",
    "    return num_dias_novos_list\n",
    "\n",
    "def remover_acentos_coluna(df, coluna):\n",
    "    # Remove acentos e converte para MAIÚSCULAS os valores de uma coluna de texto em um DataFrame pandas.\n",
    "    return (\n",
    "        df[coluna]\n",
    "        .astype(str)                       # garante tipo string\n",
    "        .str.normalize('NFD')              # separa acentos\n",
    "        .str.encode('ascii', 'ignore')     # remove acentos\n",
    "        .str.decode('utf-8')               # volta para string\n",
    "        .str.upper()                       # converte para maiúsculas\n",
    "    )\n"
   ]
  },
  {
   "cell_type": "markdown",
   "id": "fc9e10bb-3f49-4be4-b3db-80de0e3f5fe7",
   "metadata": {},
   "source": [
    "CARREGAMENTO DE DADOS LOCAIS"
   ]
  },
  {
   "cell_type": "code",
   "execution_count": null,
   "id": "068ea7dc",
   "metadata": {},
   "outputs": [],
   "source": [
    "#LEITURA DE DADOS LOCAIS\n",
    "data = pd.read_excel(r'C:\\Users\\pftbm\\OneDrive - bnb.gov.br\\Convergente\\Revisão da produtividade\\Dados\\Fonte principal\\data.xlsx')\n"
   ]
  },
  {
   "cell_type": "markdown",
   "id": "aaa90df1-4882-47cd-a8f1-c29e99922818",
   "metadata": {},
   "source": [
    "LEITURA DE DADOS VIA GOOGLE COLAB"
   ]
  },
  {
   "cell_type": "code",
   "execution_count": null,
   "id": "1698644d-3d7e-4ae6-9972-42939f4771d7",
   "metadata": {},
   "outputs": [],
   "source": [
    "#LEITURA VIA GOOGLE COLAB\n",
    "from google.colab import files\n",
    "uploaded = files.upload()\n",
    "data = pd.read_excel('data.xlsx')"
   ]
  },
  {
   "cell_type": "code",
   "execution_count": null,
   "id": "30c450ed",
   "metadata": {},
   "outputs": [],
   "source": [
    "data.columns"
   ]
  },
  {
   "cell_type": "code",
   "execution_count": null,
   "id": "5f5085b4",
   "metadata": {},
   "outputs": [],
   "source": [
    "data_sorted = data.sort_values(by=['RESP. TÉCNICO', 'CONCLUSÃO', 'ALOCAÇÃO', 'VALOR DE REFERÊNCIA'], \n",
    "                               ascending=[True, False, True, False])\n",
    "\n",
    "# Definindo a formatação da coluna 'Numero'\n",
    "\n",
    "#data_sorted['VALOR DE REFERÊNCIA'] = data_sorted['VALOR DE REFERÊNCIA'].apply(lambda x: '{:,.2f}'.format(x).replace(',', ' ').replace('.', ',').replace(' ', '.'))\n"
   ]
  },
  {
   "cell_type": "code",
   "execution_count": null,
   "id": "3b5a1b17",
   "metadata": {},
   "outputs": [],
   "source": [
    "est = data_sorted['VALOR DE REFERÊNCIA'].describe()\n",
    "print(est)\n",
    "\n",
    "valor = est.quantile(0.05)\n",
    "print(locale.format_string(\"%.2f\", valor, grouping=True))\n",
    "\n",
    "valor = est.quantile(0.9)\n",
    "print(locale.format_string(\"%.2f\", valor, grouping=True))\n"
   ]
  },
  {
   "cell_type": "code",
   "execution_count": null,
   "id": "1c6a870a",
   "metadata": {
    "scrolled": true
   },
   "outputs": [],
   "source": [
    "data_sorted.shape[0]"
   ]
  },
  {
   "cell_type": "code",
   "execution_count": null,
   "id": "f6159671-cc2f-4e6a-82b8-2118bbc20cc7",
   "metadata": {},
   "outputs": [],
   "source": [
    "data_sorted.loc[data_sorted['CLIENTE'] == 'MAXIMILIANO RIBEIRO PEREIRA']"
   ]
  },
  {
   "cell_type": "markdown",
   "id": "475ba194",
   "metadata": {},
   "source": [
    "### Filtro 1"
   ]
  },
  {
   "cell_type": "code",
   "execution_count": null,
   "id": "e6590a85",
   "metadata": {},
   "outputs": [],
   "source": [
    "# FILTROS INICIAIS (executados previamente à estimativa dos prazos de execução):\n",
    "# 1. MANTER APENAS 'STATUS' = 'Laudo concluído' OU 'Parec concluído'\n",
    "# 2. REMOVER 'ATIVIDADE' = 'CQ' e 'Sensoriamento'\n",
    "\n",
    "data_sorted = data_sorted[( (data_sorted.STATUS == 'Concluída') | \n",
    "                         (data_sorted.STATUS == 'Parecer gerencial concluído') |\n",
    "                         (data_sorted.STATUS == 'Em monitoração') ) &\n",
    "                        ( (data_sorted.ATIVIDADE != 'CQ') & \n",
    "                         (data_sorted.ATIVIDADE != 'Av. Qual.') & \n",
    "                         (data_sorted.ATIVIDADE != 'Sensoriamento') )].copy()\n",
    "\n",
    "#data_sorted.loc[(data_sorted['STATUS'] == 'Concluída') & (data_sorted['ALOCAÇÃO'].isna()),'ALOCAÇÃO'] = data_sorted.loc[(data_sorted['STATUS'] == 'Concluída') & (data_sorted['ALOCAÇÃO'].isna()),'SOLICITAÇÃO']\n",
    "\n",
    "condicao = (data_sorted['STATUS'] == 'Concluída') & (data_sorted['ALOCAÇÃO'].isna())\n",
    "\n",
    "data_sorted.loc[condicao, 'ALOCAÇÃO'] = data_sorted.loc[condicao, 'SOLICITAÇÃO']\n",
    "\n",
    "data_sorted['dias efetivos'] = -1\n",
    "data_sorted['dias uteis efetivos'] = -1\n",
    "#data_sorted['VALOR DE REFERÊNCIA'] = data_sorted['VALOR DE REFERÊNCIA'].apply(lambda x: '{:,.2f}'.format(x).replace(',', ' ').replace('.', ',').replace(' ', '.'))\n",
    "data_sorted.shape"
   ]
  },
  {
   "cell_type": "code",
   "execution_count": null,
   "id": "f6745f77-c6eb-4fb3-912f-a94a00ad7a92",
   "metadata": {
    "scrolled": true
   },
   "outputs": [],
   "source": [
    "data_sorted.loc[data_sorted['CLIENTE'] == 'MAXIMILIANO RIBEIRO PEREIRA']"
   ]
  },
  {
   "cell_type": "code",
   "execution_count": null,
   "id": "77b47538",
   "metadata": {
    "scrolled": true
   },
   "outputs": [],
   "source": [
    "tecnicos = data_sorted['RESP. TÉCNICO'].unique().tolist()\n",
    "#tecnicos = ['Ana Emilia - F112933', 'Efren - F105015', 'Wagner - F157643']\n",
    "vetor_tuplas = []\n",
    "\n",
    "inicio = time.time()\n",
    "\n",
    "for tecnico in tecnicos:\n",
    "    data_aux = data_sorted[data_sorted['RESP. TÉCNICO'] == tecnico][['ALOCAÇÃO', 'CONCLUSÃO']].copy()\n",
    "    \n",
    "    vetor_tuplas = [tuple(x[1:]) for x in data_aux.itertuples()]\n",
    "    \n",
    "    dias_efetivos = gerar_vetor_dias_efetivos_do_tecnico(vetor_tuplas)\n",
    "    dias_uteis_efetivos = estimar_dias_efetivos_do_tecnico(vetor_tuplas) #Função nova\n",
    "    \n",
    "    data_sorted.loc[data_sorted['RESP. TÉCNICO'] == tecnico, 'dias efetivos'] = dias_efetivos\n",
    "    data_sorted.loc[data_sorted['RESP. TÉCNICO'] == tecnico, 'dias uteis efetivos'] = dias_uteis_efetivos\n",
    "\n",
    "fim = time.time()\n",
    "print(f\"Tempo de execução: {fim - inicio:.2f} segundos\")"
   ]
  },
  {
   "cell_type": "code",
   "execution_count": null,
   "id": "6e5a8b9d-562d-4a27-bd88-d524134e26f5",
   "metadata": {},
   "outputs": [],
   "source": [
    "data_aux_pf = data_sorted[data_sorted['RESP. TÉCNICO'] == 'Paulo Fagner (Pf) - F110523 (U)'][['ALOCAÇÃO', 'CONCLUSÃO']].copy()\n",
    "vetor_tuplas_pf = [tuple(x[1:]) for x in data_aux_pf.itertuples()]\n",
    "\n",
    "i = -2\n",
    "print(vetor_tuplas_pf[i])\n",
    "\n",
    "datas = pd.date_range(vetor_tuplas_pf[i][0], vetor_tuplas_pf[i][1])\n",
    "print(len(datas))\n",
    "datas_uteis = pd.date_range(vetor_tuplas_pf[i][0], vetor_tuplas_pf[i][1], freq='B')\n",
    "print(len(datas_uteis))"
   ]
  },
  {
   "cell_type": "code",
   "execution_count": null,
   "id": "de7f53aa-58f4-4ac8-9e40-0a06cb7d5728",
   "metadata": {},
   "outputs": [],
   "source": [
    "#testes da função nova\n",
    "dias_efetivos_pf = gerar_vetor_dias_efetivos_do_tecnico(vetor_tuplas_pf)\n",
    "for dia in dias_efetivos_pf:\n",
    "    print(dia)"
   ]
  },
  {
   "cell_type": "code",
   "execution_count": null,
   "id": "13de1778-4f5c-4991-8d72-e6f1746618d8",
   "metadata": {},
   "outputs": [],
   "source": [
    "data_sorted.loc[data_sorted['CLIENTE'] == 'MAXIMILIANO RIBEIRO PEREIRA']"
   ]
  },
  {
   "cell_type": "code",
   "execution_count": null,
   "id": "84838eb7",
   "metadata": {},
   "outputs": [],
   "source": [
    "data_sorted[data_sorted['RESP. TÉCNICO'] == 'Paulo Fagner (Pf) - F110523 (U)'][['RESP. TÉCNICO', 'ATIVIDADE', 'CLIENTE', \n",
    "                                                                                  'PRAZO EXECUÇÃO DD', 'dias efetivos', 'dias efetivos novo']][:60]"
   ]
  },
  {
   "cell_type": "markdown",
   "id": "4e615c0a",
   "metadata": {},
   "source": [
    "### Filtro 2"
   ]
  },
  {
   "cell_type": "code",
   "execution_count": null,
   "id": "716f0860",
   "metadata": {},
   "outputs": [],
   "source": [
    "data_sorted.shape"
   ]
  },
  {
   "cell_type": "code",
   "execution_count": null,
   "id": "cc4f3cbb",
   "metadata": {
    "scrolled": true
   },
   "outputs": [],
   "source": [
    "# FILTROS\n",
    "# 1. Remover 'VALOR DE REFERÊNCIA' <= 1 OU 'VALOR DE REFERÊNCIA' > 500.000.000\n",
    "# 2. Manter apenas 0 < 'dias efetivos' < 30\n",
    "# 3. Remover 'dias efetivos' < 3 SE 'ATIVIDADE' == 'Aval.' ou 'Crít.'\n",
    "\n",
    "# 1 \n",
    "data_teste = data_sorted.drop(data_sorted[(data_sorted['VALOR DE REFERÊNCIA'] <= 1) ].index)\n",
    "print(data_teste.shape)\n",
    "\n",
    "# 2\n",
    "data_teste = data_teste[(data_teste['dias efetivos'] > 0) & (data_teste['dias efetivos'] < 30)].copy()\n",
    "print(data_teste.shape)\n",
    "\n",
    "# 3\n",
    "data_teste = data_teste.drop(data_teste[(data_teste['dias efetivos'] < 3) & \n",
    "                                        ((data_teste['ATIVIDADE'] == 'Aval.') | (data_teste['ATIVIDADE'] == 'Crít.') )].index)\n",
    "\n",
    "print(data_teste.shape)\n",
    "\n",
    "data_teste[:20]"
   ]
  },
  {
   "cell_type": "code",
   "execution_count": null,
   "id": "9c64eb8c",
   "metadata": {},
   "outputs": [],
   "source": [
    "a = pd.pivot_table(data=data_teste, index='RESP. TÉCNICO', columns='ATIVIDADE', values='dias efetivos', aggfunc='mean', margins=False)\n",
    "\n",
    "#a.div(a.sum(axis=1), axis=0).round(3) #percentuais por linha\n",
    "a"
   ]
  },
  {
   "cell_type": "markdown",
   "id": "766ba9ae",
   "metadata": {},
   "source": [
    "SALVAR O DATA FRAME"
   ]
  },
  {
   "cell_type": "code",
   "execution_count": null,
   "id": "261457a6",
   "metadata": {},
   "outputs": [],
   "source": [
    "with pd.ExcelWriter(r'C:\\Users\\pftbm\\OneDrive - bnb.gov.br\\Convergente\\Revisão da produtividade\\Dados\\Cronos out 2025\\data_dias_efetivos_filtro.xlsx') as writer:\n",
    "    data_teste.to_excel(writer) "
   ]
  },
  {
   "cell_type": "markdown",
   "id": "319d34be-f763-445a-a865-67e8510b2dad",
   "metadata": {},
   "source": [
    "#### CRIAR DATA FRAME DE AVALIAÇÕES E INCLUIR VARIÁVEIS DE DISPONIBILIDADE DE DADOS"
   ]
  },
  {
   "cell_type": "code",
   "execution_count": null,
   "id": "43daca2d-2d1e-4682-bb75-24ae7cc1bc1c",
   "metadata": {},
   "outputs": [],
   "source": [
    "def calcular_numero_de_avaliacoes_por_municipio(df_municipio_data):\n",
    "    result_cont = []\n",
    "    contagem = {}\n",
    "    \n",
    "    for municipio in df_municipio_data['MUNICÍPIO(S)']:\n",
    "        if municipio not in contagem:\n",
    "            contagem[municipio] = 0\n",
    "        else:\n",
    "            contagem[municipio] += 1\n",
    "\n",
    "        result_cont.append(contagem[municipio])\n",
    "    \n",
    "    return result_cont\n",
    "\n",
    "\n",
    "def calcular_numero_de_avaliacoes_por_municipio_no_periodo(df_municipio_data, periodo=2):\n",
    "    result_cont = []\n",
    "    contagem = {}\n",
    "    \n",
    "    for i, linha in df_municipio_data.iterrows():\n",
    "        municipio = linha['MUNICÍPIO(S)']\n",
    "        conclusao = linha['CONCLUSÃO']\n",
    "        limite = conclusao - pd.DateOffset(years=periodo)\n",
    "\n",
    "        if municipio not in contagem:\n",
    "            contagem[municipio] = [conclusao]\n",
    "        else:\n",
    "            datas = contagem[municipio]\n",
    "            datas_filtradas = [d for d in datas if d >= limite]\n",
    "            contagem[municipio] = datas_filtradas\n",
    "            contagem[municipio].append(conclusao)\n",
    "\n",
    "        result_cont.append(len(contagem[municipio])-1 )\n",
    "\n",
    "    \n",
    "    return result_cont\n"
   ]
  },
  {
   "cell_type": "code",
   "execution_count": null,
   "id": "c223aa34-0bc3-4739-8b93-8358e98b4201",
   "metadata": {},
   "outputs": [],
   "source": [
    "#FILTRAR AS AVALIAÇÕES URBANAS E MISTAS\n",
    "data_teste.columns\n",
    "print(data_teste.shape)\n",
    "\n",
    "condicao = ((data_teste['ATIVIDADE'] == 'Aval. Bens') | (data_teste['ATIVIDADE'] == 'Aval.Im.') | (data_teste['ATIVIDADE'] == 'Conv. Aval.')) & ((data_teste['ÁREA'] == 'Urbano') | (data_teste['ÁREA'] == 'Mista'))\n",
    "\n",
    "data_teste_avaliacoes_urbanas = data_teste.loc[condicao].copy()\n",
    "\n",
    "print(data_teste_avaliacoes_urbanas.shape)\n",
    "\n"
   ]
  },
  {
   "cell_type": "code",
   "execution_count": null,
   "id": "142325dd-cefa-4164-a8d7-92cfae1c979c",
   "metadata": {},
   "outputs": [],
   "source": [
    "#REMOVER AVALIAÇÕES SEM MUNICÍPIO INFORMADO (ORIGEM SIAT)\n",
    "\n",
    "data_teste_avaliacoes_urbanas = data_teste_avaliacoes_urbanas.loc[data_teste_avaliacoes_urbanas['MUNICÍPIO(S)'].notna()].copy()\n",
    "data_teste_avaliacoes_urbanas.shape"
   ]
  },
  {
   "cell_type": "code",
   "execution_count": null,
   "id": "ad931477-7a68-46d6-aaa5-0c62e1975e03",
   "metadata": {},
   "outputs": [],
   "source": [
    "# CONTAR AVALIAÇÕES POR MUNICÍPIOS\n",
    "df_municipio_data = data_teste_avaliacoes_urbanas[['MUNICÍPIO(S)', 'CONCLUSÃO']].copy()\n",
    "df_municipio_data['id'] = [(i+1) for i in range(len(df_municipio_data))]\n",
    "df_municipio_data_sorted = df_municipio_data.sort_values(by=['CONCLUSÃO'], ascending=[True]).copy()\n",
    "df_municipio_data_sorted['num_avaliacoes'] = calcular_numero_de_avaliacoes_por_municipio(df_municipio_data_sorted)\n",
    "df_municipio_data_sorted['num_avaliacoes_2_anos'] = calcular_numero_de_avaliacoes_por_municipio_no_periodo(df_municipio_data_sorted, 2)\n",
    "df_municipio_data_sorted['num_avaliacoes_1_ano'] = calcular_numero_de_avaliacoes_por_municipio_no_periodo(df_municipio_data_sorted, 1)\n",
    "#voltando à ordem original\n",
    "df_municipio_data_sorted.sort_values(by=['id'], ascending=[True], inplace=True)\n",
    "\n",
    "df_municipio_data_sorted.head(5)"
   ]
  },
  {
   "cell_type": "code",
   "execution_count": null,
   "id": "78eead21-c63f-4ca4-93e8-1f5c9f46b32c",
   "metadata": {},
   "outputs": [],
   "source": [
    "#Adicionar campo calculado ao data frame original\n",
    "data_teste_avaliacoes_urbanas['num_acumulado_avaliacoes'] = df_municipio_data_sorted['num_avaliacoes']\n",
    "data_teste_avaliacoes_urbanas['num_acumulado_avaliacoes 2 anos'] = df_municipio_data_sorted['num_avaliacoes_2_anos']\n",
    "data_teste_avaliacoes_urbanas['num_acumulado_avaliacoes 1 ano'] = df_municipio_data_sorted['num_avaliacoes_1_ano']"
   ]
  },
  {
   "cell_type": "markdown",
   "id": "1d0810cf-2bf0-4f08-acf3-766185057ebc",
   "metadata": {},
   "source": [
    "#### VARIÁVEIS EXTRÍNSECAS - CARACTERÍSTICAS DOS MUNICÍPIOS - FONTES EXTERNAS"
   ]
  },
  {
   "cell_type": "code",
   "execution_count": null,
   "id": "1acfe2a3-fa8d-405b-927a-ef3a157087b9",
   "metadata": {},
   "outputs": [],
   "source": [
    "data_teste_avaliacoes_urbanas.columns"
   ]
  },
  {
   "cell_type": "code",
   "execution_count": null,
   "id": "56af93fe-2121-4b5e-9853-6dc40317f0ad",
   "metadata": {},
   "outputs": [],
   "source": [
    "data_teste_avaliacoes_urbanas['MUNICÍPIO(S)']"
   ]
  },
  {
   "cell_type": "code",
   "execution_count": null,
   "id": "7ac281ac-201f-43c6-b3c6-87c17ebf9922",
   "metadata": {},
   "outputs": [],
   "source": [
    "data_ibge = pd.read_excel(r'C:\\Users\\pftbm\\OneDrive - bnb.gov.br\\Convergente\\Revisão da produtividade\\Dados\\IBGE\\variaveis ibge final prod.xlsx')"
   ]
  },
  {
   "cell_type": "code",
   "execution_count": null,
   "id": "055775d2-02ad-468a-b8c7-8e52060555d1",
   "metadata": {},
   "outputs": [],
   "source": [
    "data_ibge.columns"
   ]
  },
  {
   "cell_type": "code",
   "execution_count": null,
   "id": "cd20f320-c822-4ced-88cc-9c4970429503",
   "metadata": {},
   "outputs": [],
   "source": [
    "data_ibge.shape"
   ]
  },
  {
   "cell_type": "code",
   "execution_count": null,
   "id": "70c52cab-b231-450f-81e1-9126fb8bae37",
   "metadata": {
    "scrolled": true
   },
   "outputs": [],
   "source": [
    "data_ibge['municipio/uf'] = remover_acentos_coluna(data_ibge,'municipio/uf')\n",
    "data_ibge"
   ]
  },
  {
   "cell_type": "code",
   "execution_count": null,
   "id": "afc51123-55e8-45c8-9fe5-ed470f2eb164",
   "metadata": {},
   "outputs": [],
   "source": [
    "df_merge = pd.merge(\n",
    "    data_teste_avaliacoes_urbanas,\n",
    "    data_ibge,  # seleciona colunas desejadas - todas, no caso\n",
    "    left_on='MUNICÍPIO(S)',                # chave do df1\n",
    "    right_on='municipio/uf',                   # chave do df2\n",
    "    how='left'\n",
    ")"
   ]
  },
  {
   "cell_type": "code",
   "execution_count": null,
   "id": "dbdc0edd-ec9b-41ef-97fd-ac58e07d90ec",
   "metadata": {
    "scrolled": true
   },
   "outputs": [],
   "source": [
    "df_merge.columns"
   ]
  },
  {
   "cell_type": "code",
   "execution_count": null,
   "id": "18c0c307-95a9-4ed2-af75-ac7cd9f8b757",
   "metadata": {},
   "outputs": [],
   "source": [
    "df_merge.drop(columns=['ID'], inplace=True)\n"
   ]
  },
  {
   "cell_type": "code",
   "execution_count": null,
   "id": "63c2a03d-2fe6-43eb-8884-5f3a5b41dc98",
   "metadata": {},
   "outputs": [],
   "source": [
    "df_merge.columns"
   ]
  },
  {
   "cell_type": "code",
   "execution_count": null,
   "id": "f26bb1f4-5b6a-47d5-840f-b2949ab16239",
   "metadata": {},
   "outputs": [],
   "source": [
    "data_teste_avaliacoes_urbanas = df_merge.copy()"
   ]
  },
  {
   "cell_type": "markdown",
   "id": "3239b47b-8364-4cd7-8cf5-5a7cc3fa657b",
   "metadata": {},
   "source": [
    "SALVAR ARQUIVO LOCALMENTE"
   ]
  },
  {
   "cell_type": "code",
   "execution_count": null,
   "id": "4bd0e301-4d3a-4882-8084-9d98dab31d6a",
   "metadata": {},
   "outputs": [],
   "source": [
    "with pd.ExcelWriter(r'C:\\Users\\pftbm\\OneDrive - bnb.gov.br\\Convergente\\Revisão da produtividade\\Dados\\Fonte principal\\data_avaliacoes_URBANAS.xlsx') as writer:\n",
    "    data_teste_avaliacoes_urbanas.to_excel(writer) "
   ]
  },
  {
   "cell_type": "markdown",
   "id": "4e91e271-32b4-4716-8e5a-ab02b5d909a6",
   "metadata": {},
   "source": [
    "BAIXAR ARQUIVOS COM O GOOGLE COLAB"
   ]
  },
  {
   "cell_type": "code",
   "execution_count": null,
   "id": "12119a6b-1ea6-4d6d-a3a7-726bec453982",
   "metadata": {},
   "outputs": [],
   "source": [
    "from google.colab import files\n",
    "\n",
    "data_teste_avaliacoes_urbanas.to_excel('data_avaliacoes_URBANAS.xlsx', index=False)\n",
    "\n",
    "files.download('data_avaliacoes_URBANAS.xlsx')"
   ]
  },
  {
   "cell_type": "markdown",
   "id": "fa4c20a4",
   "metadata": {},
   "source": [
    "## MISCELÂNEA"
   ]
  },
  {
   "cell_type": "code",
   "execution_count": null,
   "id": "42c39cc4",
   "metadata": {},
   "outputs": [],
   "source": [
    "#Para remover hora de uma columa datetime\n",
    "data_sorted['CONCLUSÃO'] = pd.to_datetime(data_sorted['CONCLUSÃO']).dt.date\n",
    "data_sorted['ALOCAÇÃO'] = pd.to_datetime(data_sorted['ALOCAÇÃO']).dt.date\n"
   ]
  },
  {
   "cell_type": "code",
   "execution_count": null,
   "id": "f7b41d1f",
   "metadata": {},
   "outputs": [],
   "source": [
    "import matplotlib.pyplot as plt\n",
    "import seaborn as sns\n",
    "\n",
    "# Dados de exemplo\n",
    "#dados = data_sorted['VALOR DE REFERÊNCIA'].copy()\n",
    "#dados = dados[(dados > 20000) & (dados < 500000000)].copy()\n",
    "dados = data_sorted['PRAZO EXECUÇÃO'].copy()\n",
    "dados = dados[dados > 1]\n",
    "\n",
    "# Plotando o histograma\n",
    "fig, ax = plt.subplots(figsize=(8, 6))\n",
    "sns.set_theme(style=\"darkgrid\")\n",
    "sns.histplot(dados)\n",
    "\n",
    "# Exibindo o gráfico\n",
    "plt.show()"
   ]
  },
  {
   "cell_type": "code",
   "execution_count": null,
   "id": "ad561f16",
   "metadata": {},
   "outputs": [],
   "source": [
    "\n",
    "# DataFrame de exemplo\n",
    "df = data_wagner_dates #pd.DataFrame({'A': [1, 2, 3], 'B': ['a', 'b', 'c']})\n",
    "\n",
    "# Convertendo o DataFrame em um vetor de tuplas\n",
    "vetor_tuplas = [tuple(x[1:]) for x in df.itertuples()]\n",
    "\n",
    "# Exibindo o vetor de tuplas\n",
    "print(vetor_tuplas[0][0])"
   ]
  },
  {
   "cell_type": "code",
   "execution_count": null,
   "id": "667aec4a",
   "metadata": {},
   "outputs": [],
   "source": [
    "data_sorted['RESPONSÁVEL TÉCNICO'].unique().tolist()\n"
   ]
  },
  {
   "cell_type": "code",
   "execution_count": null,
   "id": "3dc9e6ca",
   "metadata": {},
   "outputs": [],
   "source": [
    "data_sorted['dias efetivos'] = -1\n",
    "data_sorted.loc[data_sorted['RESPONSÁVEL TÉCNICO'] == 'Paulo Fagner (Pf) - F110523', 'dias efetivos'] = x\n",
    "data_sorted[data_sorted['RESPONSÁVEL TÉCNICO'] == 'Romulo - F113875']"
   ]
  },
  {
   "cell_type": "code",
   "execution_count": null,
   "id": "422b8974",
   "metadata": {},
   "outputs": [],
   "source": [
    "x = [i for i in range(26)]"
   ]
  },
  {
   "cell_type": "code",
   "execution_count": null,
   "id": "4b1ee93f-aed7-4004-8d8e-22fc68b5965a",
   "metadata": {},
   "outputs": [],
   "source": [
    "def anos_intervalos(intervalos):\n",
    "    anos = set() \n",
    "\n",
    "    for inicio, fim in intervalos:\n",
    "        data_inicio = pd.to_datetime(inicio)\n",
    "        data_fim = pd.to_datetime(fim)\n",
    "        anos.update([data_inicio.year, data_fim.year])\n",
    "\n",
    "    anos_list = sorted(list(anos))\n",
    "    \n",
    "    return anos_list\n",
    "    \n",
    "\n",
    "def calcular_dias_efetivos_teste(intervalos):\n",
    "\n",
    "    # Conjunto acumulado de dias já cobertos pelos intervalos anteriores\n",
    "    dias_cobertos = set()\n",
    "    \n",
    "    # Lista para armazenar resultados\n",
    "    resultados = []\n",
    "    num_dias_novos_list = []\n",
    "    \n",
    "    feriados_brasil = holidays.Brazil(years = anos_intervalos(intervalos))\n",
    "    \n",
    "    for i, (inicio, fim) in enumerate(reversed(intervalos), start=1):\n",
    "        \n",
    "        dias_intervalo = set(pd.date_range(inicio, fim, freq='B')) # freq='B' -> dias úteis\n",
    "        dias_intervalo_sem_feriado = set([d for d in dias_intervalo if d not in feriados_brasil])\n",
    "        dias_intervalo = dias_intervalo_sem_feriado\n",
    "        # Agora queremos apenas os dias que NÃO estão cobertos pelos intervalos já considerados\n",
    "        dias_novos = dias_intervalo - dias_cobertos\n",
    "        dias_cobertos.update(dias_intervalo)\n",
    "        \n",
    "        num_dias_novos_list.insert(0, len(dias_novos))\n",
    "        \n",
    "        #adiciona no início da lista, para voltar à ordem original\n",
    "        resultados.insert(0, {\n",
    "            \"intervalo\": i,\n",
    "            \"inicio\": inicio,\n",
    "            \"fim\": fim,\n",
    "            \"dias_novos\": len(dias_novos),\n",
    "            \"total_dias_intervalo\": len(dias_intervalo)\n",
    "        })\n",
    "\n",
    "    df_resultados = pd.DataFrame(resultados)\n",
    "        \n",
    "    return df_resultados\n",
    "        \n",
    "intervalos = [\n",
    "    (\"2022-10-15\", \"2022-10-18\"),\n",
    "    (\"2022-09-30\", \"2022-10-13\"),\n",
    "    (\"2022-10-01\", \"2022-10-10\"),\n",
    "    (\"2022-09-30\", \"2022-10-08\"),\n",
    "    (\"2022-09-25\", \"2022-10-06\"),\n",
    "]\n",
    "\n",
    "resultados = calcular_dias_efetivos_teste(intervalos)\n",
    "print(resultados)"
   ]
  },
  {
   "cell_type": "code",
   "execution_count": null,
   "id": "1a0ee584-9e1a-4887-b9c2-69535b03cbe0",
   "metadata": {},
   "outputs": [],
   "source": [
    "intervalos = [\n",
    "    (\"2025-10-15\", \"2025-10-16\"),\n",
    "    (\"2025-09-30\", \"2025-10-13\"),\n",
    "    (\"2025-10-01\", \"2025-10-10\"),\n",
    "    (\"2025-09-30\", \"2025-10-08\"),\n",
    "    (\"2024-09-24\", \"2025-10-06\"),\n",
    "]\n",
    "\n",
    "anos = set() \n",
    "\n",
    "for inicio, fim in intervalos:\n",
    "    data_inicio = pd.to_datetime(inicio)\n",
    "    data_fim = pd.to_datetime(fim)\n",
    "    anos.update([data_inicio.year, data_fim.year])\n",
    "\n",
    "anos_list = sorted(list(anos))\n",
    "\n",
    "print(anos_list)\n",
    "\n",
    "feriados_brasil = holidays.Brazil(years = anos_list)\n",
    "\n",
    "dias_uteis_sem_feriado = [d for d in datas if d not in feriados_brasil]"
   ]
  },
  {
   "cell_type": "code",
   "execution_count": null,
   "id": "b40de311-e738-44dc-b3c2-f29098cde57b",
   "metadata": {},
   "outputs": [],
   "source": []
  }
 ],
 "metadata": {
  "kernelspec": {
   "display_name": "Python (produtividade)",
   "language": "python",
   "name": "produtividade"
  },
  "language_info": {
   "codemirror_mode": {
    "name": "ipython",
    "version": 3
   },
   "file_extension": ".py",
   "mimetype": "text/x-python",
   "name": "python",
   "nbconvert_exporter": "python",
   "pygments_lexer": "ipython3",
   "version": "3.13.7"
  }
 },
 "nbformat": 4,
 "nbformat_minor": 5
}
