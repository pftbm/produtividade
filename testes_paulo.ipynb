{
 "cells": [
  {
   "cell_type": "code",
   "execution_count": 2,
   "id": "b0809df9-82d4-478b-bf89-c69570d24896",
   "metadata": {},
   "outputs": [],
   "source": [
    "import numpy as np\n",
    "import pandas as pd\n",
    "import holidays"
   ]
  },
  {
   "cell_type": "code",
   "execution_count": 3,
   "id": "a51bfc0f-308e-43ca-8a53-c4219632b7e5",
   "metadata": {
    "scrolled": true
   },
   "outputs": [
    {
     "name": "stdout",
     "output_type": "stream",
     "text": [
      "      Nome  Idade      Comida\n",
      "0  Pauline     10  hamburguer\n",
      "1  Fabiane     45       pizza\n",
      "2    Paulo     45     lasanha\n",
      "3     Suki      2         ovo\n",
      "\n",
      "\n",
      "           Nome  Idade      Comida    Musica\n",
      "0       Pauline     10  hamburguer     K-pop\n",
      "1       Fabiane     45       pizza       MPB\n",
      "2  Paulo Fagner     45     lasanha      Rock\n",
      "3          Suki      2         ovo  clássica\n",
      "\n",
      "\n",
      "<class 'numpy.int64'>\n",
      "idade: 10\n"
     ]
    }
   ],
   "source": [
    "familia = {\n",
    "    'Nome': ['Pauline', 'Fabiane', 'Paulo', 'Suki'],\n",
    "    'Idade': [10, 45, 45, 2],\n",
    "    'Comida': ['hamburguer', 'pizza', 'lasanha', 'ovo']\n",
    "}\n",
    "familia_df = pd.DataFrame(familia)\n",
    "\n",
    "print(familia_df)\n",
    "print('\\n')\n",
    "\n",
    "familia_df2 = familia_df.assign(Musica = ['K-pop', 'MPB', 'Rock', 'clássica'])\n",
    "\n",
    "familia_df2.loc[familia_df2['Nome'] == 'Paulo', 'Nome'] = 'Paulo Fagner'#familia_df2.loc[familia_df2['Nome'] == 'Paulo', 'Comida']\n",
    "\n",
    "print(familia_df2)\n",
    "\n",
    "result = familia_df2.loc[familia_df2['Nome'] == 'Pauline', 'Idade'].values[0]\n",
    "\n",
    "print(\"\\n\")\n",
    "print(type(result))\n",
    "print('idade:', result)"
   ]
  },
  {
   "cell_type": "code",
   "execution_count": 19,
   "id": "d6db6455-5d68-433c-827f-dbee25b0bd12",
   "metadata": {},
   "outputs": [
    {
     "data": {
      "text/plain": [
       "{'Nome': ['Pauline', 'Fabiane', 'Paulo'], 'Idade': [45, 45, 10]}"
      ]
     },
     "execution_count": 19,
     "metadata": {},
     "output_type": "execute_result"
    }
   ],
   "source": [
    "familia_teste = {}\n",
    "familia_teste['Nome'] = ['Pauline', 'Fabiane', 'Paulo']\n",
    "familia_teste['Idade'] = [45]\n",
    "familia_teste['Idade'].append(45)\n",
    "familia_teste['Idade'].append(10)\n",
    "familia_teste"
   ]
  },
  {
   "cell_type": "code",
   "execution_count": null,
   "id": "33aa6a7c-5139-4575-869e-a273dc4d2b0d",
   "metadata": {},
   "outputs": [],
   "source": [
    "familia_df2.loc[familia_df2['Nome'] == 'Pauline', 'Idade']"
   ]
  },
  {
   "cell_type": "code",
   "execution_count": null,
   "id": "c45ee061-8e07-4716-8fb9-023d8d94ebda",
   "metadata": {},
   "outputs": [],
   "source": [
    "x = np.random.normal(0, 1, 100)"
   ]
  },
  {
   "cell_type": "code",
   "execution_count": null,
   "id": "15b89316-a406-4bdc-92b0-eb370cd7ce75",
   "metadata": {},
   "outputs": [],
   "source": [
    "import os\n",
    "print(os.getcwd())"
   ]
  },
  {
   "cell_type": "code",
   "execution_count": null,
   "id": "34b9a932-625a-46d2-add1-34c97e460987",
   "metadata": {
    "scrolled": true
   },
   "outputs": [],
   "source": [
    "dados = pd.read_parquet(r\"C:\\Users\\pftbm\\Notebooks\\titanic.parquet\")"
   ]
  },
  {
   "cell_type": "code",
   "execution_count": null,
   "id": "73fcb563-e2d5-4389-98e1-1d8a0668329b",
   "metadata": {},
   "outputs": [],
   "source": [
    "idade_max = max(dados['Age'])\n",
    "dados.loc[dados['Age'] < 10]"
   ]
  },
  {
   "cell_type": "code",
   "execution_count": null,
   "id": "7719dcea-f4f2-4779-8bf1-e3c7033eb999",
   "metadata": {},
   "outputs": [],
   "source": [
    "cont_letras = {\n",
    "    'a': [0],\n",
    "    'b' : [0]\n",
    "}\n",
    "\n",
    "cont_letras['a'].append(1)\n",
    "cont_letras['a'].append(2)\n",
    "cont_letras['a'].append(3)\n",
    "cont_letras['a'].append(4)\n",
    "\n",
    "print(cont_letras['a'])\n",
    "cont_letras['a'].pop()\n",
    "(cont_letras['a'])"
   ]
  },
  {
   "cell_type": "code",
   "execution_count": null,
   "id": "ba9451cc-e9aa-4b46-873b-8f9458ded753",
   "metadata": {},
   "outputs": [],
   "source": [
    "a = np.zeros(10)\n",
    "a[4] = 2.3\n",
    "a"
   ]
  },
  {
   "cell_type": "code",
   "execution_count": null,
   "id": "d7f6d8b0-e4b9-4818-852e-1acb62af3a8e",
   "metadata": {},
   "outputs": [],
   "source": [
    "br_holidays = holidays.Brazil(years=2025, subdiv='AL')\n",
    "\n",
    "for data, nome in br_holidays.items():\n",
    "    print(f\"{nome}: {data}\")\n",
    "\n",
    "print(type(br_holidays))\n"
   ]
  },
  {
   "cell_type": "code",
   "execution_count": null,
   "id": "86dafff2-3cf6-40c8-a576-9d8b317db3fd",
   "metadata": {},
   "outputs": [],
   "source": [
    "datas = pd.date_range('2025-10-01', '2025-10-15')\n",
    "print(type(datas))\n",
    "dias_uteis = datas[datas.day_of_week < 5]\n",
    "print((dias_uteis))"
   ]
  },
  {
   "cell_type": "code",
   "execution_count": null,
   "id": "64ac8dd9-2479-47cc-9ff4-7ce69503d5c8",
   "metadata": {},
   "outputs": [],
   "source": [
    "a = set([1 ,2, 3])\n",
    "b = set([i for i in range(10)])\n",
    "b - a"
   ]
  },
  {
   "cell_type": "code",
   "execution_count": 21,
   "id": "22ea3771-79af-4185-8b73-be27a1ec0fb8",
   "metadata": {},
   "outputs": [],
   "source": [
    "data = pd.read_excel(r'C:\\Users\\pftbm\\OneDrive - bnb.gov.br\\Convergente\\Revisão da produtividade\\Dados\\Cronos out 2025\\data_dias_efetivos_filtro - urbana.xlsx')"
   ]
  },
  {
   "cell_type": "code",
   "execution_count": 22,
   "id": "269b5a90-9461-4ce8-861a-e5f23fe06513",
   "metadata": {},
   "outputs": [
    {
     "data": {
      "text/plain": [
       "Index(['SIST', '*', 'CEST', 'ÁREA', 'RESP. TÉCNICO', 'ATIVIDADE',\n",
       "       'TIPO SOLICITAÇÃO', 'STATUS', 'SICAD', 'CLIENTE', 'CÓD.ATV.',\n",
       "       'SOLICITAÇÃO', 'ALOCAÇÃO', 'DEVOLUÇÃO', 'PRIM. ENCERR.', 'CONCLUSÃO',\n",
       "       'ANÁLISES', 'DEVOLUÇÕES', 'PRAZO CST P.ENC. DU',\n",
       "       'PRAZO TOTAL P.ENC. DU', 'P.A.', 'PRAZO CST DU', 'PRAZO TOTAL DU',\n",
       "       'PRAZO EXECUÇÃO DD', 'NORM.', 'VALOR DE REFERÊNCIA', 'PPs', 'AG.',\n",
       "       'UNIDADE, UF', 'MIGRADO SIAT', 'MUNICÍPIO(S)', 'CARTEIRA', 'PORTE',\n",
       "       'SEGMENTO', 'dias efetivos', 'dias efetivos novo', 'Unnamed: 36',\n",
       "       'Unnamed: 37', 'Unnamed: 38', 'Unnamed: 39'],\n",
       "      dtype='object')"
      ]
     },
     "execution_count": 22,
     "metadata": {},
     "output_type": "execute_result"
    }
   ],
   "source": [
    "data.columns"
   ]
  },
  {
   "cell_type": "code",
   "execution_count": 34,
   "id": "58961f62-fb90-4f8f-8836-a6264ea51457",
   "metadata": {},
   "outputs": [],
   "source": [
    "def calcular_numero_de_avaliacoes_por_municipio(df_municipio_data):\n",
    "    result_cont = []\n",
    "    contagem = {}\n",
    "    \n",
    "    for municipio in df_municipio_data['MUNICÍPIO(S)']:\n",
    "        if municipio not in contagem:\n",
    "            contagem[municipio] = 0\n",
    "        else:\n",
    "            contagem[municipio] += 1\n",
    "\n",
    "        result_cont.append(contagem[municipio])\n",
    "    \n",
    "    return result_cont\n",
    "\n",
    "def calcular_numero_de_avaliacoes_por_municipio_periodo(df_municipio_data):\n",
    "    result_cont = []\n",
    "    contagem = {}\n",
    "    \n",
    "    for i, linha in df_municipio_data.iterrows():\n",
    "        municipio = linha['MUNICÍPIO(S)']\n",
    "        conclusao = linha['CONCLUSÃO']\n",
    "        if municipio not in contagem:\n",
    "            contagem[municipio] = [conclusao]\n",
    "        else:\n",
    "            contagem[municipio].append(conclusao)\n",
    "\n",
    "        result_cont.append(len(contagem[municipio]))\n",
    "    print(conclusao, type(conclusao))\n",
    "    print(contagem['RECIFE/PE'])\n",
    "    return result_cont\n"
   ]
  },
  {
   "cell_type": "code",
   "execution_count": 35,
   "id": "3efab091-8c6b-49f0-a8ab-27cbd7dae84a",
   "metadata": {},
   "outputs": [
    {
     "name": "stdout",
     "output_type": "stream",
     "text": [
      "2025-10-08 00:00:00 <class 'pandas._libs.tslibs.timestamps.Timestamp'>\n",
      "[Timestamp('2022-09-29 00:00:00'), Timestamp('2024-08-15 00:00:00'), Timestamp('2024-08-15 00:00:00'), Timestamp('2024-08-16 00:00:00'), Timestamp('2024-08-22 00:00:00'), Timestamp('2025-02-21 00:00:00'), Timestamp('2025-03-11 00:00:00'), Timestamp('2025-04-14 00:00:00'), Timestamp('2025-04-14 00:00:00'), Timestamp('2025-05-12 00:00:00'), Timestamp('2025-05-14 00:00:00'), Timestamp('2025-05-15 00:00:00'), Timestamp('2025-05-20 00:00:00'), Timestamp('2025-05-26 00:00:00'), Timestamp('2025-05-30 00:00:00'), Timestamp('2025-06-05 00:00:00'), Timestamp('2025-06-09 00:00:00'), Timestamp('2025-06-10 00:00:00'), Timestamp('2025-06-13 00:00:00'), Timestamp('2025-06-23 00:00:00'), Timestamp('2025-06-26 00:00:00'), Timestamp('2025-06-30 00:00:00'), Timestamp('2025-07-04 00:00:00'), Timestamp('2025-07-11 00:00:00'), Timestamp('2025-07-15 00:00:00'), Timestamp('2025-07-25 00:00:00'), Timestamp('2025-07-29 00:00:00'), Timestamp('2025-08-05 00:00:00'), Timestamp('2025-08-06 00:00:00'), Timestamp('2025-08-11 00:00:00'), Timestamp('2025-08-11 00:00:00'), Timestamp('2025-08-12 00:00:00'), Timestamp('2025-08-21 00:00:00'), Timestamp('2025-08-22 00:00:00'), Timestamp('2025-09-05 00:00:00'), Timestamp('2025-09-10 00:00:00'), Timestamp('2025-09-17 00:00:00'), Timestamp('2025-09-30 00:00:00')]\n"
     ]
    }
   ],
   "source": [
    "df_municipio_data = data[['MUNICÍPIO(S)', 'CONCLUSÃO']].copy()\n",
    "df_municipio_data['id'] = [(i+1) for i in range(len(df_municipio_data))]\n",
    "df_municipio_data_sorted = df_municipio_data.sort_values(by=['CONCLUSÃO'], ascending=[True]).copy()\n",
    "df_municipio_data_sorted['num_avaliacoes'] = calcular_numero_de_avaliacoes_por_municipio(df_municipio_data_sorted)\n",
    "df_municipio_data_sorted['num_avaliacoes periodo'] = calcular_numero_de_avaliacoes_por_municipio_periodo(df_municipio_data_sorted)\n",
    "#voltando à ordem original\n",
    "df_municipio_data_sorted.sort_values(by=['id'], ascending=[True], inplace=True)"
   ]
  },
  {
   "cell_type": "code",
   "execution_count": 29,
   "id": "71cd11ba-1f1b-49dd-8b3c-be632eb20d75",
   "metadata": {},
   "outputs": [
    {
     "data": {
      "text/html": [
       "<div>\n",
       "<style scoped>\n",
       "    .dataframe tbody tr th:only-of-type {\n",
       "        vertical-align: middle;\n",
       "    }\n",
       "\n",
       "    .dataframe tbody tr th {\n",
       "        vertical-align: top;\n",
       "    }\n",
       "\n",
       "    .dataframe thead th {\n",
       "        text-align: right;\n",
       "    }\n",
       "</style>\n",
       "<table border=\"1\" class=\"dataframe\">\n",
       "  <thead>\n",
       "    <tr style=\"text-align: right;\">\n",
       "      <th></th>\n",
       "      <th>MUNICÍPIO(S)</th>\n",
       "      <th>CONCLUSÃO</th>\n",
       "      <th>id</th>\n",
       "      <th>num_avaliacoes</th>\n",
       "      <th>num_avaliacoes periodo</th>\n",
       "    </tr>\n",
       "  </thead>\n",
       "  <tbody>\n",
       "    <tr>\n",
       "      <th>0</th>\n",
       "      <td>NaN</td>\n",
       "      <td>2024-11-26</td>\n",
       "      <td>1</td>\n",
       "      <td>4055</td>\n",
       "      <td>4056</td>\n",
       "    </tr>\n",
       "    <tr>\n",
       "      <th>1</th>\n",
       "      <td>ARACAJU/SE</td>\n",
       "      <td>2025-03-13</td>\n",
       "      <td>2</td>\n",
       "      <td>71</td>\n",
       "      <td>72</td>\n",
       "    </tr>\n",
       "    <tr>\n",
       "      <th>2</th>\n",
       "      <td>ARACAJU/SE</td>\n",
       "      <td>2025-02-26</td>\n",
       "      <td>3</td>\n",
       "      <td>68</td>\n",
       "      <td>69</td>\n",
       "    </tr>\n",
       "    <tr>\n",
       "      <th>3</th>\n",
       "      <td>ARACAJU/SE</td>\n",
       "      <td>2025-02-11</td>\n",
       "      <td>4</td>\n",
       "      <td>66</td>\n",
       "      <td>67</td>\n",
       "    </tr>\n",
       "    <tr>\n",
       "      <th>4</th>\n",
       "      <td>BARRA DOS COQUEIROS/SE</td>\n",
       "      <td>2025-01-15</td>\n",
       "      <td>5</td>\n",
       "      <td>1</td>\n",
       "      <td>2</td>\n",
       "    </tr>\n",
       "    <tr>\n",
       "      <th>5</th>\n",
       "      <td>ARACAJU/SE</td>\n",
       "      <td>2025-01-10</td>\n",
       "      <td>6</td>\n",
       "      <td>62</td>\n",
       "      <td>63</td>\n",
       "    </tr>\n",
       "    <tr>\n",
       "      <th>6</th>\n",
       "      <td>ITABAIANA/SE</td>\n",
       "      <td>2024-11-18</td>\n",
       "      <td>7</td>\n",
       "      <td>0</td>\n",
       "      <td>1</td>\n",
       "    </tr>\n",
       "    <tr>\n",
       "      <th>7</th>\n",
       "      <td>NaN</td>\n",
       "      <td>2024-10-04</td>\n",
       "      <td>8</td>\n",
       "      <td>3777</td>\n",
       "      <td>3778</td>\n",
       "    </tr>\n",
       "    <tr>\n",
       "      <th>8</th>\n",
       "      <td>ARACAJU/SE</td>\n",
       "      <td>2024-09-10</td>\n",
       "      <td>9</td>\n",
       "      <td>48</td>\n",
       "      <td>49</td>\n",
       "    </tr>\n",
       "    <tr>\n",
       "      <th>9</th>\n",
       "      <td>ARACAJU/SE</td>\n",
       "      <td>2024-07-24</td>\n",
       "      <td>10</td>\n",
       "      <td>43</td>\n",
       "      <td>44</td>\n",
       "    </tr>\n",
       "    <tr>\n",
       "      <th>10</th>\n",
       "      <td>NaN</td>\n",
       "      <td>2024-07-18</td>\n",
       "      <td>11</td>\n",
       "      <td>3291</td>\n",
       "      <td>3292</td>\n",
       "    </tr>\n",
       "    <tr>\n",
       "      <th>11</th>\n",
       "      <td>ESTANCIA/SE</td>\n",
       "      <td>2024-06-28</td>\n",
       "      <td>12</td>\n",
       "      <td>2</td>\n",
       "      <td>3</td>\n",
       "    </tr>\n",
       "    <tr>\n",
       "      <th>12</th>\n",
       "      <td>ARACAJU/SE</td>\n",
       "      <td>2024-06-18</td>\n",
       "      <td>13</td>\n",
       "      <td>38</td>\n",
       "      <td>39</td>\n",
       "    </tr>\n",
       "    <tr>\n",
       "      <th>13</th>\n",
       "      <td>NaN</td>\n",
       "      <td>2024-06-14</td>\n",
       "      <td>14</td>\n",
       "      <td>3072</td>\n",
       "      <td>3073</td>\n",
       "    </tr>\n",
       "    <tr>\n",
       "      <th>14</th>\n",
       "      <td>NaN</td>\n",
       "      <td>2024-06-07</td>\n",
       "      <td>15</td>\n",
       "      <td>3009</td>\n",
       "      <td>3010</td>\n",
       "    </tr>\n",
       "    <tr>\n",
       "      <th>15</th>\n",
       "      <td>ARACAJU/SE</td>\n",
       "      <td>2024-04-17</td>\n",
       "      <td>16</td>\n",
       "      <td>29</td>\n",
       "      <td>30</td>\n",
       "    </tr>\n",
       "    <tr>\n",
       "      <th>16</th>\n",
       "      <td>ARACAJU/SE</td>\n",
       "      <td>2024-04-09</td>\n",
       "      <td>17</td>\n",
       "      <td>27</td>\n",
       "      <td>28</td>\n",
       "    </tr>\n",
       "    <tr>\n",
       "      <th>17</th>\n",
       "      <td>NaN</td>\n",
       "      <td>2024-04-03</td>\n",
       "      <td>18</td>\n",
       "      <td>2578</td>\n",
       "      <td>2579</td>\n",
       "    </tr>\n",
       "    <tr>\n",
       "      <th>18</th>\n",
       "      <td>NaN</td>\n",
       "      <td>2024-03-13</td>\n",
       "      <td>19</td>\n",
       "      <td>2438</td>\n",
       "      <td>2439</td>\n",
       "    </tr>\n",
       "    <tr>\n",
       "      <th>19</th>\n",
       "      <td>NaN</td>\n",
       "      <td>2024-03-08</td>\n",
       "      <td>20</td>\n",
       "      <td>2406</td>\n",
       "      <td>2407</td>\n",
       "    </tr>\n",
       "  </tbody>\n",
       "</table>\n",
       "</div>"
      ],
      "text/plain": [
       "              MUNICÍPIO(S)  CONCLUSÃO  id  num_avaliacoes  \\\n",
       "0                      NaN 2024-11-26   1            4055   \n",
       "1               ARACAJU/SE 2025-03-13   2              71   \n",
       "2               ARACAJU/SE 2025-02-26   3              68   \n",
       "3               ARACAJU/SE 2025-02-11   4              66   \n",
       "4   BARRA DOS COQUEIROS/SE 2025-01-15   5               1   \n",
       "5               ARACAJU/SE 2025-01-10   6              62   \n",
       "6             ITABAIANA/SE 2024-11-18   7               0   \n",
       "7                      NaN 2024-10-04   8            3777   \n",
       "8               ARACAJU/SE 2024-09-10   9              48   \n",
       "9               ARACAJU/SE 2024-07-24  10              43   \n",
       "10                     NaN 2024-07-18  11            3291   \n",
       "11             ESTANCIA/SE 2024-06-28  12               2   \n",
       "12              ARACAJU/SE 2024-06-18  13              38   \n",
       "13                     NaN 2024-06-14  14            3072   \n",
       "14                     NaN 2024-06-07  15            3009   \n",
       "15              ARACAJU/SE 2024-04-17  16              29   \n",
       "16              ARACAJU/SE 2024-04-09  17              27   \n",
       "17                     NaN 2024-04-03  18            2578   \n",
       "18                     NaN 2024-03-13  19            2438   \n",
       "19                     NaN 2024-03-08  20            2406   \n",
       "\n",
       "    num_avaliacoes periodo  \n",
       "0                     4056  \n",
       "1                       72  \n",
       "2                       69  \n",
       "3                       67  \n",
       "4                        2  \n",
       "5                       63  \n",
       "6                        1  \n",
       "7                     3778  \n",
       "8                       49  \n",
       "9                       44  \n",
       "10                    3292  \n",
       "11                       3  \n",
       "12                      39  \n",
       "13                    3073  \n",
       "14                    3010  \n",
       "15                      30  \n",
       "16                      28  \n",
       "17                    2579  \n",
       "18                    2439  \n",
       "19                    2407  "
      ]
     },
     "execution_count": 29,
     "metadata": {},
     "output_type": "execute_result"
    }
   ],
   "source": [
    "df_municipio_data_sorted.head(20)"
   ]
  },
  {
   "cell_type": "code",
   "execution_count": null,
   "id": "a7e99e52-8f39-4760-a1e1-448a2da56dcc",
   "metadata": {},
   "outputs": [],
   "source": [
    "data['num_acumulado_avaliacoes'] = df_municipio_data_sorted['num_avaliacoes']"
   ]
  },
  {
   "cell_type": "code",
   "execution_count": null,
   "id": "71ecfce9-eb14-47d7-b5d1-835bab6b634b",
   "metadata": {},
   "outputs": [],
   "source": [
    "data.loc[(data['MUNICÍPIO(S)'].notna()), ['MUNICÍPIO(S)', 'CONCLUSÃO', 'num_acumulado_avaliacoes']].tail(5)\n"
   ]
  },
  {
   "cell_type": "code",
   "execution_count": null,
   "id": "957e8c95-0485-4734-9db6-b90491473b7a",
   "metadata": {},
   "outputs": [],
   "source": [
    " \n",
    "with pd.ExcelWriter(r'C:\\Users\\pftbm\\OneDrive - bnb.gov.br\\Convergente\\Revisão da produtividade\\Dados\\Cronos out 2025\\data_dias_efetivos_filtro - urbana 2.xlsx') as writer:\n",
    "    data.to_excel(writer) \n"
   ]
  },
  {
   "cell_type": "code",
   "execution_count": 36,
   "id": "b2c7c1e6-50ab-42fd-b3d7-085ad1d8706f",
   "metadata": {},
   "outputs": [],
   "source": [
    "import pandas as pd\n",
    "\n",
    "# lista de datas tipo Timestamp\n",
    "datas = [\n",
    "    pd.Timestamp('2021-10-15'),\n",
    "    pd.Timestamp('2022-05-20'),\n",
    "    pd.Timestamp('2023-08-01'),\n",
    "    pd.Timestamp('2024-11-10')\n",
    "]\n",
    "\n",
    "# nova data que será adicionada\n",
    "nova_data = pd.Timestamp('2025-10-17')\n",
    "\n",
    "# define intervalo de 2 anos para trás\n",
    "limite = nova_data - pd.DateOffset(years=2)\n",
    "\n",
    "# filtra mantendo só as datas dentro do intervalo de 2 anos\n",
    "datas_filtradas = [d for d in datas if d >= limite]\n",
    "\n",
    "# adiciona a nova data\n",
    "datas_filtradas.append(nova_data)"
   ]
  }
 ],
 "metadata": {
  "kernelspec": {
   "display_name": "Python (produtividade)",
   "language": "python",
   "name": "produtividade"
  },
  "language_info": {
   "codemirror_mode": {
    "name": "ipython",
    "version": 3
   },
   "file_extension": ".py",
   "mimetype": "text/x-python",
   "name": "python",
   "nbconvert_exporter": "python",
   "pygments_lexer": "ipython3",
   "version": "3.13.7"
  }
 },
 "nbformat": 4,
 "nbformat_minor": 5
}
